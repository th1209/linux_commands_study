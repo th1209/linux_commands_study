{
 "cells": [
  {
   "cell_type": "markdown",
   "metadata": {},
   "source": [
    "##### パイプして使うと便利\n",
    "* `grep \"xxx\" hoge.txt | less`\n",
    "\n",
    "##### 行番号の表示\n",
    "* -N or --LINE-NUMBERS\n",
    "* -s or --squeeze-blank-lines\n",
    "  * 空白行が2行以上続いた際に、1行にまとめる\n",
    "  \n",
    "##### よく使う\n",
    "* -p pattern or --pattern=pattern\n",
    "  * パターンをハイライト\n",
    "* -O filename or --LOG-FILE=filename\n",
    "  * 出力しつつ、ファイルにも書き出す\n",
    "\n",
    "\n",
    "##### less実行時の便利機能\n",
    "* 各種オプションの指定\n",
    "  * 例えば、-Nと打てば、コマンド実行後でも、行番号が表示されるようになる\n",
    "* v\n",
    "  * vimが立ち上がる\n",
    "* ! Enter\n",
    "  * シェルに遷移。exitでlessに戻る。\n",
    "* :f\n",
    "  * 進捗の表示\n",
    "* F\n",
    "  * 更新を待ち受ける。Ctrl + Cでlessに戻る。\n",
    "  * tailfより便利(笑)\n",
    "\n",
    "##### 環境変数\n",
    "\n",
    "* LESS: lessにデフォルトで渡すオプション\n",
    "* LESSOPEN: less実行時のフック。エイリアスでも、この環境変数でも。\n",
    "\n",
    "##### 参考\n",
    "* [Qiita lessコマンドtips 11選](http://qiita.com/ine1127/items/64b5b6cf52471c3fe59c)\n",
    "* [lessでシンタックスハイライト](http://nippondanji.blogspot.jp/2011/11/less.html)\n"
   ]
  }
 ],
 "metadata": {
  "kernelspec": {
   "display_name": "Bash",
   "language": "bash",
   "name": "bash"
  },
  "language_info": {
   "codemirror_mode": "shell",
   "file_extension": ".sh",
   "mimetype": "text/x-sh",
   "name": "bash"
  }
 },
 "nbformat": 4,
 "nbformat_minor": 0
}
