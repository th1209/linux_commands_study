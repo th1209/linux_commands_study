{
 "cells": [
  {
   "cell_type": "markdown",
   "metadata": {},
   "source": [
    "##### 必須オプション\n",
    "* -a, --archive\n",
    "  * -aはアーカイブモードと呼ばれ、以下オプションがまとめて指定されてものとして機能する\n",
    "  * -r:再帰コピー\n",
    "  * -l:シンボリックリンクコピー\n",
    "  * -p:元のpermissionを保持\n",
    "  * -t:元のtimestampを保持\n",
    "  * -g:元のグループを保持\n",
    "  * -o:元の所持者を保持\n",
    "  * -D:デバイスファイルを保持\n",
    "* -z, --compress \n",
    "\n",
    "##### よく使うオプション\n",
    "* -u, --update\n",
    "  * 差分更新\n",
    "* --exclude=PATTERN\n",
    "* --exclude-from=FILE\n",
    "* -n, --dry-run \n",
    "* --log-file=FILE\n",
    "\n",
    "\n",
    "##### 表示に関するオプション\n",
    "* 以下。どれも付けておいた方がお得。\n",
    "  * -v, --verbose\n",
    "  * -h, --human-readable\n",
    "  * --progress \n",
    "  * --stats\n",
    "    * 転送時の統計情報を表示\n",
    "\n",
    "##### 参考\n",
    "\n",
    "* [rsyncで覚えておきたい10個のtips](http://orebibou.com/2015/06/rsync%E3%82%B3%E3%83%9E%E3%83%B3%E3%83%89%E3%81%A7%E8%A6%9A%E3%81%88%E3%81%A6%E3%81%8A%E3%81%8D%E3%81%9F%E3%81%84%E4%BD%BF%E3%81%84%E6%96%B910%E5%80%8B/)"
   ]
  },
  {
   "cell_type": "markdown",
   "metadata": {},
   "source": [
    "##### 前提\n",
    "* 今回の例では、以下のようなディレクトリをコピー元として扱う"
   ]
  },
  {
   "cell_type": "code",
   "execution_count": 30,
   "metadata": {
    "collapsed": false
   },
   "outputs": [
    {
     "name": "stdout",
     "output_type": "stream",
     "text": [
      "total 32\r\n",
      "drwxr-xr-x   6 Hata  staff   204  9 14 01:10 .\r\n",
      "drwx------+ 28 Hata  staff   952  9 14 00:57 ..\r\n",
      "-rw-r--r--@  1 Hata  staff  6148  9 14 01:03 .DS_Store\r\n",
      "-rw-r--r--@  1 Hata  staff  6148  9 14 01:03 .git\r\n",
      "drwxr-xr-x   4 Hata  staff   136  9 14 00:41 foo\r\n",
      "-rw-r--r--   1 Hata  staff     0  9 14 00:40 hoge.txt\r\n",
      "\r\n",
      "source/foo:\r\n",
      "total 0\r\n",
      "drwxr-xr-x  4 Hata  staff  136  9 14 00:41 .\r\n",
      "drwxr-xr-x  6 Hata  staff  204  9 14 01:10 ..\r\n",
      "-rw-r--r--  1 Hata  staff    0  9 14 00:40 buzz.txt\r\n",
      "-rw-r--r--  1 Hata  staff    0  9 14 00:40 fizz.txt\r\n"
     ]
    }
   ],
   "source": [
    "ls -alR source"
   ]
  },
  {
   "cell_type": "markdown",
   "metadata": {},
   "source": [
    "##### エイリアス\n",
    "* 以下のオプションは必須なので、エイリアスを貼ってしまうといいだろう。\n",
    "* 以降では、このエイリアスを設定したものとしてみていく"
   ]
  },
  {
   "cell_type": "code",
   "execution_count": 21,
   "metadata": {
    "collapsed": false
   },
   "outputs": [
    {
     "name": "stdout",
     "output_type": "stream",
     "text": [
      "alias rsync='rsync --archive --compress --human-readable --progress --verbose --stats'\r\n"
     ]
    }
   ],
   "source": [
    "alias rsync='rsync --archive --compress --human-readable --progress --verbose --stats'\n",
    "alias"
   ]
  },
  {
   "cell_type": "markdown",
   "metadata": {},
   "source": [
    "##### rsyncの注意点1 ~コピー元の指定に注意~ "
   ]
  },
  {
   "cell_type": "code",
   "execution_count": 25,
   "metadata": {
    "collapsed": false
   },
   "outputs": [
    {
     "name": "stdout",
     "output_type": "stream",
     "text": [
      "building file list ... \r\n",
      " 0 files...\r",
      "7 files to consider\r\n",
      "./\r\n",
      ".DS_Store\r\n",
      ".git\r\n",
      "hoge.txt\r\n",
      "foo/\r\n",
      "foo/buzz.txt\r\n",
      "foo/fizz.txt\r\n",
      "\r\n",
      "Number of files: 7\r\n",
      "Number of files transferred: 5\r\n",
      "Total file size: 12.30K bytes\r\n",
      "Total transferred file size: 12.30K bytes\r\n",
      "Literal data: 0 bytes\r\n",
      "Matched data: 0 bytes\r\n",
      "File list size: 160\r\n",
      "File list generation time: 0.001 seconds\r\n",
      "File list transfer time: 0.000 seconds\r\n",
      "Total bytes sent: 218\r\n",
      "Total bytes received: 62\r\n",
      "\r\n",
      "sent 218 bytes  received 62 bytes  560.00 bytes/sec\r\n",
      "total size is 12.30K  speedup is 43.91\r\n"
     ]
    }
   ],
   "source": [
    "#コピー元の中身をコピー\n",
    "rsync --dry-run source/ dist"
   ]
  },
  {
   "cell_type": "code",
   "execution_count": 24,
   "metadata": {
    "collapsed": false
   },
   "outputs": [
    {
     "name": "stdout",
     "output_type": "stream",
     "text": [
      "building file list ... \r\n",
      " 0 files...\r",
      "7 files to consider\r\n",
      "source/\r\n",
      "source/.DS_Store\r\n",
      "source/.git\r\n",
      "source/hoge.txt\r\n",
      "source/foo/\r\n",
      "source/foo/buzz.txt\r\n",
      "source/foo/fizz.txt\r\n",
      "\r\n",
      "Number of files: 7\r\n",
      "Number of files transferred: 5\r\n",
      "Total file size: 12.30K bytes\r\n",
      "Total transferred file size: 12.30K bytes\r\n",
      "Literal data: 0 bytes\r\n",
      "Matched data: 0 bytes\r\n",
      "File list size: 170\r\n",
      "File list generation time: 0.001 seconds\r\n",
      "File list transfer time: 0.000 seconds\r\n",
      "Total bytes sent: 228\r\n",
      "Total bytes received: 62\r\n",
      "\r\n",
      "sent 228 bytes  received 62 bytes  580.00 bytes/sec\r\n",
      "total size is 12.30K  speedup is 42.40\r\n"
     ]
    }
   ],
   "source": [
    "#コピー元ディレクトリ自体もコピー(あまり使わない)\n",
    "rsync --dry-run source dist"
   ]
  },
  {
   "cell_type": "markdown",
   "metadata": {},
   "source": [
    "##### --excludeオプションの使用例\n",
    "* 複数パターン除外したいときは、--excludeオプションを複数回並べる\n",
    "* --includeや--excludeオプションは厄介な挙動をする。はまったら、以下のURLを参照すること。\n",
    "  * [rsync の複雑怪奇な exclude と include の適用手順を理解しよう](http://tech.nitoyon.com/ja/blog/2013/03/26/rsync-include-exclude/)"
   ]
  },
  {
   "cell_type": "code",
   "execution_count": 33,
   "metadata": {
    "collapsed": false
   },
   "outputs": [
    {
     "name": "stdout",
     "output_type": "stream",
     "text": [
      "building file list ... \r\n",
      " 0 files...\r",
      "5 files to consider\r\n",
      "source/\r\n",
      "source/hoge.txt\r\n",
      "source/foo/\r\n",
      "source/foo/buzz.txt\r\n",
      "source/foo/fizz.txt\r\n",
      "\r\n",
      "Number of files: 5\r\n",
      "Number of files transferred: 3\r\n",
      "Total file size: 0 bytes\r\n",
      "Total transferred file size: 0 bytes\r\n",
      "Literal data: 0 bytes\r\n",
      "Matched data: 0 bytes\r\n",
      "File list size: 132\r\n",
      "File list generation time: 0.001 seconds\r\n",
      "File list transfer time: 0.000 seconds\r\n",
      "Total bytes sent: 178\r\n",
      "Total bytes received: 50\r\n",
      "\r\n",
      "sent 178 bytes  received 50 bytes  456.00 bytes/sec\r\n",
      "total size is 0  speedup is 0.00\r\n"
     ]
    }
   ],
   "source": [
    "#.DS_Storeなどの不要ファイルを除外\n",
    "rsync --dry-run  --exclude='*.DS_Store' --exclude='*.git' source dist"
   ]
  }
 ],
 "metadata": {
  "kernelspec": {
   "display_name": "Bash",
   "language": "bash",
   "name": "bash"
  },
  "language_info": {
   "codemirror_mode": "shell",
   "file_extension": ".sh",
   "mimetype": "text/x-sh",
   "name": "bash"
  }
 },
 "nbformat": 4,
 "nbformat_minor": 0
}
